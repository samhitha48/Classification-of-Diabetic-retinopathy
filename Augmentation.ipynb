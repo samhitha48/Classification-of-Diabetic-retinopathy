{
  "nbformat": 4,
  "nbformat_minor": 0,
  "metadata": {
    "colab": {
      "name": "Augmentation.ipynb",
      "provenance": []
    },
    "kernelspec": {
      "name": "python3",
      "display_name": "Python 3"
    },
    "language_info": {
      "name": "python"
    }
  },
  "cells": [
    {
      "cell_type": "code",
      "execution_count": null,
      "metadata": {
        "id": "oa8cMyj5lWzG"
      },
      "outputs": [],
      "source": [
        "# Importing necessary functions for augmentation\n",
        "from keras.preprocessing.image import ImageDataGenerator,array_to_img, img_to_array, load_img\n",
        "   \n",
        "# Initialising the ImageDataGenerator class.\n",
        "# We will pass in the augmentation parameters in the constructor.\n",
        "datagen = ImageDataGenerator(\n",
        "        rotation_range = 60,\n",
        "        shear_range = 0.2,\n",
        "        zoom_range = 0.2,\n",
        "        horizontal_flip = True,\n",
        "        brightness_range = (0.5, 1.5))\n",
        "    \n",
        "# Loading a sample image \n",
        "img = load_img('segmented/image032.png') \n",
        "# Converting the input sample image to an array\n",
        "x = img_to_array(img)\n",
        "# Reshaping the input image\n",
        "x = x.reshape((1, ) + x.shape) \n",
        "   \n",
        "# Generating and saving 5 augmented samples \n",
        "# using the above defined parameters. \n",
        "i = 0\n",
        "for batch in datagen.flow(x, batch_size = 1,\n",
        "                          save_to_dir ='/content/gdrive/MyDrive/aug2', \n",
        "                          save_prefix ='image', save_format ='png'):\n",
        "    i += 1\n",
        "    if i > 5:\n",
        "        break"
      ]
    }
  ]
}